{
 "cells": [
  {
   "cell_type": "code",
   "execution_count": 6,
   "metadata": {},
   "outputs": [
    {
     "data": {
      "text/plain": [
       "True"
      ]
     },
     "execution_count": 6,
     "metadata": {},
     "output_type": "execute_result"
    }
   ],
   "source": [
    "from anthropic import Anthropic\n",
    "import os\n",
    "from dotenv import load_dotenv\n",
    "\n",
    "load_dotenv()"
   ]
  },
  {
   "cell_type": "markdown",
   "metadata": {},
   "source": [
    "#### Use Anthropic key"
   ]
  },
  {
   "cell_type": "code",
   "execution_count": 5,
   "metadata": {},
   "outputs": [],
   "source": [
    "api_key = os.getenv('ANTHROPIC_API_KEY')\n",
    "base_url = os.getenv('ANTHROPIC_BASE_URL')"
   ]
  },
  {
   "cell_type": "code",
   "execution_count": 10,
   "metadata": {},
   "outputs": [
    {
     "name": "stdout",
     "output_type": "stream",
     "text": [
      "我是 Claude,一个由 Anthropic 开发的 AI 助手。我会遵循道德准则,努力帮助你解决问题,同时会如实说明我的能力和局限性。\n"
     ]
    }
   ],
   "source": [
    "client = Anthropic(api_key=api_key,base_url=base_url)\n",
    "response = client.messages.create(max_tokens=1000,model='claude-3-5-sonnet-20241022',messages=[{'role':'user','content':'你是谁'}])\n",
    "print(response.content[0].text)"
   ]
  },
  {
   "cell_type": "code",
   "execution_count": 21,
   "metadata": {},
   "outputs": [],
   "source": [
    "def llm_call(prompt:str,system_prompts:str=\"\",model='claude-3-5-sonnet-20241022')->str:\n",
    "    client = Anthropic(api_key=api_key,base_url=base_url)\n",
    "    messages = [{'role':'user','content':prompt}]\n",
    "    response = client.messages.create(max_tokens=1000,model=model,messages=messages,system=system_prompts,temperature=0.1)\n",
    "    return response.content[0].text"
   ]
  },
  {
   "cell_type": "code",
   "execution_count": 16,
   "metadata": {},
   "outputs": [
    {
     "data": {
      "text/plain": [
       "'我是 Claude,一个 AI 助手。我会用专业、友善和诚实的态度来帮助你。'"
      ]
     },
     "execution_count": 16,
     "metadata": {},
     "output_type": "execute_result"
    }
   ],
   "source": [
    "llm_call('你是谁')"
   ]
  },
  {
   "cell_type": "code",
   "execution_count": 17,
   "metadata": {},
   "outputs": [],
   "source": [
    "import re\n",
    "def extract_xml(text: str, tag: str) -> str:\n",
    "    \"\"\"\n",
    "    Extracts the content of the specified XML tag from the given text. Used for parsing structured responses \n",
    "\n",
    "    Args:\n",
    "        text (str): The text containing the XML.\n",
    "        tag (str): The XML tag to extract content from.\n",
    "\n",
    "    Returns:\n",
    "        str: The content of the specified XML tag, or an empty string if the tag is not found.\n",
    "    \"\"\"\n",
    "    match = re.search(f'<{tag}>(.*?)</{tag}>', text, re.DOTALL)\n",
    "    return match.group(1) if match else \"\""
   ]
  },
  {
   "cell_type": "code",
   "execution_count": 25,
   "metadata": {},
   "outputs": [],
   "source": [
    "from typing import Dict\n",
    "\n",
    "def route(input:str,routes:Dict[str,str])->str:\n",
    "    '''Route input to specialized prompt using content classification'''\n",
    "    print(f'\\nAvailable routes: {list(routes.keys())}')\n",
    "    selector_prompt = f'''\n",
    "    Analyze the input and select the most appropriate support team from these options:{list(routes.keys())}\n",
    "    First explain your reasoning, then provide your selection in this this XML format:\n",
    "    \n",
    "    <reasoning>\n",
    "    Brief explanation of why this ticket should be routed to a specific team.\n",
    "    Consider key terms, user intent, and urgency level. \n",
    "    </reasoning>\n",
    "    \n",
    "    <selection>\n",
    "    The chosen team name\n",
    "    </selection>\n",
    "    \n",
    "    Input:{input}\n",
    "    '''.strip()\n",
    "    \n",
    "    route_response = llm_call(selector_prompt)\n",
    "    reasoning = extract_xml(route_response, 'reasoning')\n",
    "    route_key = extract_xml(route_response,'selection').strip().lower()\n",
    "    \n",
    "    print(f'Routing Analysis:')\n",
    "    print(reasoning)\n",
    "    print(f'Selected route:{route_key}')\n",
    "    \n",
    "    selected_prompt = routes[route_key]\n",
    "    return llm_call(f'{selected_prompt} \\n Input: {input}')\n",
    "    "
   ]
  },
  {
   "cell_type": "code",
   "execution_count": 19,
   "metadata": {},
   "outputs": [],
   "source": [
    "# Route support tickets to appropriate teams based on content analysis\n",
    "\n",
    "support_routes = {\n",
    "    \"billing\": \"\"\"You are a billing support specialist. Follow these guidelines:\n",
    "    1. Always start with \"Billing Support Response:\"\n",
    "    2. First acknowledge the specific billing issue\n",
    "    3. Explain any charges or discrepancies clearly\n",
    "    4. List concrete next steps with timeline\n",
    "    5. End with payment options if relevant\n",
    "    \n",
    "    Keep responses professional but friendly.\n",
    "    \n",
    "    Input: \"\"\",\n",
    "    \n",
    "    \"technical\": \"\"\"You are a technical support engineer. Follow these guidelines:\n",
    "    1. Always start with \"Technical Support Response:\"\n",
    "    2. List exact steps to resolve the issue\n",
    "    3. Include system requirements if relevant\n",
    "    4. Provide workarounds for common problems\n",
    "    5. End with escalation path if needed\n",
    "    \n",
    "    Use clear, numbered steps and technical details.\n",
    "    \n",
    "    Input: \"\"\",\n",
    "    \n",
    "    \"account\": \"\"\"You are an account security specialist. Follow these guidelines:\n",
    "    1. Always start with \"Account Support Response:\"\n",
    "    2. Prioritize account security and verification\n",
    "    3. Provide clear steps for account recovery/changes\n",
    "    4. Include security tips and warnings\n",
    "    5. Set clear expectations for resolution time\n",
    "    \n",
    "    Maintain a serious, security-focused tone.\n",
    "    \n",
    "    Input: \"\"\",\n",
    "    \n",
    "    \"product\": \"\"\"You are a product specialist. Follow these guidelines:\n",
    "    1. Always start with \"Product Support Response:\"\n",
    "    2. Focus on feature education and best practices\n",
    "    3. Include specific examples of usage\n",
    "    4. Link to relevant documentation sections\n",
    "    5. Suggest related features that might help\n",
    "    \n",
    "    Be educational and encouraging in tone.\n",
    "    \n",
    "    Input: \"\"\"\n",
    "}"
   ]
  },
  {
   "cell_type": "code",
   "execution_count": 24,
   "metadata": {},
   "outputs": [
    {
     "name": "stdout",
     "output_type": "stream",
     "text": [
      "Processing support tickets...\n",
      "\n",
      "\n",
      "Ticket 1:\n",
      "----------------------------------------\n",
      "Subject: Can't access my account\n",
      "    Message: Hi, I've been trying to log in for the past hour but keep getting an 'invalid password' error. \n",
      "    I'm sure I'm using the right password. Can you help me regain access? This is urgent as I need to \n",
      "    submit a report by end of day.\n",
      "    - John\n",
      "\n",
      "Response:\n",
      "----------------------------------------\n",
      "\n",
      "Available routes: ['billing', 'technical', 'account', 'product']\n",
      "Routing Analysis:\n",
      "\n",
      "This issue is clearly related to account access and authentication problems. The user is experiencing login difficulties with their password, which is a core account security and access issue. While there may be technical aspects involved, the primary concern is account access restoration. The urgency expressed by the user and the nature of the problem (password/login issues) makes this a typical account support case that the account team is best equipped to handle through their access management tools and security verification processes.\n",
      "\n",
      "Selected route:account\n",
      "None\n",
      "\n",
      "Ticket 2:\n",
      "----------------------------------------\n",
      "Subject: Unexpected charge on my card\n",
      "    Message: Hello, I just noticed a charge of $49.99 on my credit card from your company, but I thought\n",
      "    I was on the $29.99 plan. Can you explain this charge and adjust it if it's a mistake?\n",
      "    Thanks,\n",
      "    Sarah\n",
      "\n",
      "Response:\n",
      "----------------------------------------\n",
      "\n",
      "Available routes: ['billing', 'technical', 'account', 'product']\n",
      "Routing Analysis:\n",
      "\n",
      "This ticket should be routed to the billing team because:\n",
      "1. The user is specifically questioning a charge on their credit card\n",
      "2. There's mention of pricing plans ($49.99 vs $29.99)\n",
      "3. The user is requesting explanation of charges and potential adjustment\n",
      "4. Keywords like \"charge,\" \"credit card,\" and \"plan\" are typical billing-related terms\n",
      "5. This is a financial matter rather than a technical issue, account management, or product inquiry\n",
      "\n",
      "Selected route:billing\n",
      "None\n",
      "\n",
      "Ticket 3:\n",
      "----------------------------------------\n",
      "Subject: How to export data?\n",
      "    Message: I need to export all my project data to Excel. I've looked through the docs but can't\n",
      "    figure out how to do a bulk export. Is this possible? If so, could you walk me through the steps?\n",
      "    Best regards,\n",
      "    Mike\n",
      "\n",
      "Response:\n",
      "----------------------------------------\n",
      "\n",
      "Available routes: ['billing', 'technical', 'account', 'product']\n",
      "Routing Analysis:\n",
      "\n",
      "This inquiry is clearly about product functionality and how to use a specific feature (data export). The user is requesting technical instructions on how to perform a specific task within the product. They've already consulted documentation but need additional guidance on the operational aspects of the platform. This is not related to billing, account management, or general product information, but rather specific technical \"how-to\" assistance.\n",
      "\n",
      "Selected route:technical\n",
      "None\n"
     ]
    }
   ],
   "source": [
    "# Test with different support tickets\n",
    "tickets = [\n",
    "    \"\"\"Subject: Can't access my account\n",
    "    Message: Hi, I've been trying to log in for the past hour but keep getting an 'invalid password' error. \n",
    "    I'm sure I'm using the right password. Can you help me regain access? This is urgent as I need to \n",
    "    submit a report by end of day.\n",
    "    - John\"\"\",\n",
    "    \n",
    "    \"\"\"Subject: Unexpected charge on my card\n",
    "    Message: Hello, I just noticed a charge of $49.99 on my credit card from your company, but I thought\n",
    "    I was on the $29.99 plan. Can you explain this charge and adjust it if it's a mistake?\n",
    "    Thanks,\n",
    "    Sarah\"\"\",\n",
    "    \n",
    "    \"\"\"Subject: How to export data?\n",
    "    Message: I need to export all my project data to Excel. I've looked through the docs but can't\n",
    "    figure out how to do a bulk export. Is this possible? If so, could you walk me through the steps?\n",
    "    Best regards,\n",
    "    Mike\"\"\"\n",
    "]\n",
    "\n",
    "print(\"Processing support tickets...\\n\")\n",
    "for i, ticket in enumerate(tickets, 1):\n",
    "    print(f\"\\nTicket {i}:\")\n",
    "    print(\"-\" * 40)\n",
    "    print(ticket)\n",
    "    print(\"\\nResponse:\")\n",
    "    print(\"-\" * 40)\n",
    "    response = route(ticket, support_routes)\n",
    "    print(response)"
   ]
  },
  {
   "cell_type": "code",
   "execution_count": null,
   "metadata": {},
   "outputs": [],
   "source": []
  }
 ],
 "metadata": {
  "kernelspec": {
   "display_name": "Python 3",
   "language": "python",
   "name": "python3"
  },
  "language_info": {
   "codemirror_mode": {
    "name": "ipython",
    "version": 3
   },
   "file_extension": ".py",
   "mimetype": "text/x-python",
   "name": "python",
   "nbconvert_exporter": "python",
   "pygments_lexer": "ipython3",
   "version": "3.12.6"
  }
 },
 "nbformat": 4,
 "nbformat_minor": 2
}
