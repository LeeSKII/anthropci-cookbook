{
 "cells": [
  {
   "cell_type": "code",
   "execution_count": 1,
   "metadata": {},
   "outputs": [],
   "source": [
    "from openai import OpenAI\n",
    "import os\n",
    "from dotenv import load_dotenv\n",
    "\n",
    "load_dotenv()\n",
    "\n",
    "glm_api_key = os.getenv(\"GLM_API_KEY\")\n",
    "glm_base_url = os.getenv(\"GLM_BASE_URL\")\n",
    "\n",
    "client = OpenAI(api_key=glm_api_key,base_url=glm_base_url)"
   ]
  },
  {
   "cell_type": "code",
   "execution_count": 5,
   "metadata": {},
   "outputs": [
    {
     "name": "stdout",
     "output_type": "stream",
     "text": [
      "标题：《小兔子的奇妙花园》\n",
      "\n",
      "从前，在一个遥远的森林里，有一片被阳光照耀得温暖的小兔子家。小兔子名叫多多，它拥有一颗善良而好奇的心。每天，多多都会在森林里探险，寻找新奇的事物。\n",
      "\n",
      "有一天，多多在森林深处发现了一片神秘的花园。花园里开满了五彩斑斓的花朵，每一朵花都散发着迷人的香气。多多兴奋地跳了起来，它决定要探索这片奇妙的花园。\n",
      "\n",
      "在花园里，多多遇到了一位智慧的老猫头鹰。老猫头鹰告诉多多，这片花园是由善良和爱心滋养而成的。只有那些心怀善意的人，才能进入这片花园，感受其中的美好。\n",
      "\n",
      "多多听了老猫头鹰的话，心中充满了好奇。它问：“那么，我怎样才能让这片花园永远美丽呢？”\n",
      "\n",
      "老猫头鹰微笑着说：“多多，你要记住，善良的心是这片花园的守护者。只要你的心中充满了善良，花园就会永远绽放。”\n",
      "\n",
      "多多点了点头，它决定用自己的行动来证明自己的善良。它开始帮助森林里的其他动物，无论是帮助小松鼠找到松果，还是帮助小鸟筑巢，多多都乐此不疲。\n",
      "\n",
      "有一天，森林里的大树突然生病了，所有的动物都感到非常担忧。多多想到了一个办法，它决定用花园里的花朵来为大树疗伤。多多小心翼翼地采集了各种颜色的花朵，然后轻轻地洒在大树的伤口上。\n",
      "\n",
      "奇迹发生了，大树慢慢地恢复了生机，它的叶子重新变得翠绿，果实也重新挂满了枝头。所有的动物都为多多的善良感到高兴，它们纷纷来到花园，感谢多多的帮助。\n",
      "\n",
      "从此，多多成为了森林里的英雄。它的善良和爱心不仅让花园更加美丽，也让森林里的每一个角落都充满了温暖。\n",
      "\n",
      "有一天，多多再次遇到了老猫头鹰。老猫头鹰看着多多，满意地点了点头：“多多，你的善良之心已经让这片花园变得更加神奇。记住，无论你走到哪里，都要保持这颗善良的心，因为它是你最宝贵的财富。”\n",
      "\n",
      "多多牢记了老猫头鹰的话，它带着善良的心继续在森林里探险，帮助每一个需要帮助的动物。而那片奇妙的花园，也成为了多多心中永恒的美丽记忆。\n",
      "\n",
      "故事告诉我们，善良的心是世界上最宝贵的财富。只要我们保持善良，世界就会因为我们的存在而变得更加美好。"
     ]
    }
   ],
   "source": [
    "\n",
    "completion = client.chat.completions.create(\n",
    "    model=\"glm-4-flash\",  \n",
    "    messages=[    \n",
    "        {\"role\": \"system\", \"content\": \"你是一个聪明且富有创造力的小说作家\"},    \n",
    "        {\"role\": \"user\", \"content\": \"请你作为童话故事大王，写一篇短篇童话故事，故事的主题是要永远保持一颗善良的心，要能够激发儿童的学习兴趣和想象力，同时也能够帮助儿童更好地理解和接受故事中所蕴含的道理和价值观。\"} \n",
    "    ],\n",
    "    temperature=0.1,\n",
    "    stream=True,\n",
    " ) \n",
    " \n",
    "for chunk in completion:\n",
    "    if chunk.choices[0].delta.content is not None:\n",
    "        print(chunk.choices[0].delta.content, end=\"\")"
   ]
  },
  {
   "cell_type": "code",
   "execution_count": null,
   "metadata": {},
   "outputs": [],
   "source": []
  }
 ],
 "metadata": {
  "kernelspec": {
   "display_name": "Python 3",
   "language": "python",
   "name": "python3"
  },
  "language_info": {
   "codemirror_mode": {
    "name": "ipython",
    "version": 3
   },
   "file_extension": ".py",
   "mimetype": "text/x-python",
   "name": "python",
   "nbconvert_exporter": "python",
   "pygments_lexer": "ipython3",
   "version": "3.12.4"
  }
 },
 "nbformat": 4,
 "nbformat_minor": 2
}
