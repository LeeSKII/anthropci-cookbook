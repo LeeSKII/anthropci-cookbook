{
 "cells": [
  {
   "cell_type": "code",
   "execution_count": 10,
   "metadata": {},
   "outputs": [],
   "source": [
    "from openai import OpenAI\n",
    "import os\n",
    "from dotenv import load_dotenv\n",
    "\n",
    "load_dotenv()\n",
    "\n",
    "glm_api_key = os.getenv(\"GLM_API_KEY\")\n",
    "glm_base_url = os.getenv(\"GLM_BASE_URL\")\n",
    "\n",
    "client = OpenAI(api_key=glm_api_key,base_url=glm_base_url)"
   ]
  },
  {
   "cell_type": "code",
   "execution_count": 11,
   "metadata": {},
   "outputs": [],
   "source": [
    "model_name='glm-4-flash'"
   ]
  },
  {
   "cell_type": "code",
   "execution_count": 12,
   "metadata": {},
   "outputs": [],
   "source": [
    "tools = [\n",
    "    {\n",
    "        \"type\": \"function\",\n",
    "        \"function\": {\n",
    "            \"name\": \"get_flight_number\",\n",
    "            \"description\": \"根据始发地、目的地和日期，查询对应日期的航班号\",\n",
    "            \"parameters\": {\n",
    "                \"type\": \"object\",\n",
    "                \"properties\": {\n",
    "                    \"departure\": {\n",
    "                        \"description\": \"出发地\",\n",
    "                        \"type\": \"string\"\n",
    "                    },\n",
    "                    \"destination\": {\n",
    "                        \"description\": \"目的地\",\n",
    "                        \"type\": \"string\"\n",
    "                    },\n",
    "                    \"date\": {\n",
    "                        \"description\": \"日期\",\n",
    "                        \"type\": \"string\",\n",
    "                    }\n",
    "                },\n",
    "                \"required\": [ \"departure\", \"destination\", \"date\" ]\n",
    "            },\n",
    "        }\n",
    "    },\n",
    "    {\n",
    "        \"type\": \"function\",\n",
    "        \"function\": {\n",
    "            \"name\": \"get_ticket_price\",\n",
    "            \"description\": \"查询某航班在某日的票价\",\n",
    "            \"parameters\": {\n",
    "                \"type\": \"object\",\n",
    "                \"properties\": {\n",
    "                    \"flight_number\": {\n",
    "                        \"description\": \"航班号\",\n",
    "                        \"type\": \"string\"\n",
    "                    },\n",
    "                    \"date\": {\n",
    "                        \"description\": \"日期\",\n",
    "                        \"type\": \"string\",\n",
    "                    }\n",
    "                },\n",
    "                \"required\": [ \"flight_number\", \"date\"]\n",
    "            },\n",
    "        }\n",
    "    },\n",
    "]"
   ]
  },
  {
   "cell_type": "code",
   "execution_count": 13,
   "metadata": {},
   "outputs": [
    {
     "name": "stdout",
     "output_type": "stream",
     "text": [
      "ChatCompletionMessage(content=None, refusal=None, role='assistant', audio=None, function_call=None, tool_calls=[ChatCompletionMessageToolCall(id='call_-9054952246455463902', function=Function(arguments='{\"date\": \"2024-01-20\", \"departure\": \"北京\", \"destination\": \"上海\"}', name='get_flight_number'), type='function', index=0)])\n"
     ]
    }
   ],
   "source": [
    "messages = []\n",
    "messages.append({\"role\": \"user\", \"content\": \"帮我查询从2024年1月20日，从北京出发前往上海的航班\"})\n",
    "response = client.chat.completions.create(\n",
    "    model=model_name,  # 填写需要调用的模型名称\n",
    "    messages=messages,\n",
    "    tools=tools,\n",
    ")\n",
    "print(response.choices[0].message)\n",
    "messages.append(response.choices[0].message.model_dump())"
   ]
  },
  {
   "cell_type": "code",
   "execution_count": null,
   "metadata": {},
   "outputs": [
    {
     "name": "stdout",
     "output_type": "stream",
     "text": [
      "ChatCompletionMessage(content=None, refusal=None, role='assistant', audio=None, function_call=None, tool_calls=[ChatCompletionMessageToolCall(id='call_-9054950940784996043', function=Function(arguments='{\"date\": \"2024-01-20\", \"flight_number\": \"1234\"}', name='get_ticket_price'), type='function', index=0)])\n"
     ]
    }
   ],
   "source": [
    "messages = []\n",
    "messages.append({\"role\": \"system\", \"content\": \"不要假设或猜测传入函数的参数值。如果用户的描述不明确，请要求用户提供必要信息\"})\n",
    "# messages.append({\"role\": \"user\", \"content\": \"帮我查询2024年1月20日1234航班的票价\"})\n",
    "messages.append({\"role\": \"user\", \"content\": \"查询2024年1月20日1234航班\"}) #也能查询到\n",
    "response = client.chat.completions.create(\n",
    "    model=\"glm-4-flash\",  # 填写需要调用的模型名称\n",
    "    messages=messages,\n",
    "    tools=tools,\n",
    ")\n",
    "print(response.choices[0].message)\n",
    "messages.append(response.choices[0].message.model_dump())"
   ]
  },
  {
   "cell_type": "code",
   "execution_count": 15,
   "metadata": {},
   "outputs": [],
   "source": [
    "def get_flight_number(date:str , departure:str , destination:str):\n",
    "    flight_number = {\n",
    "        \"北京\":{\n",
    "            \"上海\" : \"1234\",\n",
    "            \"广州\" : \"8321\",\n",
    "        },\n",
    "        \"上海\":{\n",
    "            \"北京\" : \"1233\",\n",
    "            \"广州\" : \"8123\",\n",
    "        }\n",
    "    }\n",
    "    return { \"flight_number\":flight_number[departure][destination] }\n",
    "def get_ticket_price(date:str , flight_number:str):\n",
    "    return {\"ticket_price\": \"1000\"}"
   ]
  },
  {
   "cell_type": "code",
   "execution_count": 16,
   "metadata": {},
   "outputs": [],
   "source": [
    "import json\n",
    "\n",
    "\n",
    "def parse_function_call(model_response,messages):\n",
    "    # 处理函数调用结果，根据模型返回参数，调用对应的函数。\n",
    "    # 调用函数返回结果后构造tool message，再次调用模型，将函数结果输入模型\n",
    "    # 模型会将函数调用结果以自然语言格式返回给用户。\n",
    "    if model_response.choices[0].message.tool_calls:\n",
    "        tool_call = model_response.choices[0].message.tool_calls[0]\n",
    "        args = tool_call.function.arguments\n",
    "        function_result = {}\n",
    "        if tool_call.function.name == \"get_flight_number\":\n",
    "            function_result = get_flight_number(**json.loads(args))\n",
    "        if tool_call.function.name == \"get_ticket_price\":\n",
    "            function_result = get_ticket_price(**json.loads(args))\n",
    "        messages.append({\n",
    "            \"role\": \"tool\",\n",
    "            \"content\": f\"{json.dumps(function_result)}\",\n",
    "            \"tool_call_id\":tool_call.id\n",
    "        })\n",
    "        response = client.chat.completions.create(\n",
    "            model=\"glm-4-flash\",  # 填写需要调用的模型名称\n",
    "            messages=messages,\n",
    "            tools=tools,\n",
    "        )\n",
    "        print(response.choices[0].message)\n",
    "        messages.append(response.choices[0].message.model_dump())"
   ]
  },
  {
   "cell_type": "code",
   "execution_count": 34,
   "metadata": {},
   "outputs": [
    {
     "name": "stdout",
     "output_type": "stream",
     "text": [
      "ChatCompletionMessage(content=None, refusal=None, role='assistant', audio=None, function_call=None, tool_calls=[ChatCompletionMessageToolCall(id='call_-9054951250022731477', function=Function(arguments='{\"date\": \"2022-01-23\", \"departure\": \"北京\", \"destination\": \"广州\"}', name='get_flight_number'), type='function', index=0)])\n",
      "ChatCompletionMessage(content='根据您的查询，我已经为您找到了1月23日，从北京到广州的航班号，航班号为8321。', refusal=None, role='assistant', audio=None, function_call=None, tool_calls=None)\n"
     ]
    }
   ],
   "source": [
    "# 清空对话\n",
    "messages = []\n",
    " \n",
    "messages.append({\"role\": \"system\", \"content\": \"不要假设或猜测传入函数的参数值。如果用户的描述不明确，请要求用户提供必要信息\"})\n",
    "messages.append({\"role\": \"user\", \"content\": \"帮我查询1月23日，北京到广州的航班\"})\n",
    " \n",
    "response = client.chat.completions.create(\n",
    "    model=\"glm-4-flash\",  # 填写需要调用的模型名称\n",
    "    messages=messages,\n",
    "    tools=tools,\n",
    ")\n",
    "print(response.choices[0].message)\n",
    "messages.append(response.choices[0].message.model_dump())\n",
    " \n",
    "parse_function_call(response,messages)"
   ]
  },
  {
   "cell_type": "code",
   "execution_count": 37,
   "metadata": {},
   "outputs": [
    {
     "data": {
      "text/plain": [
       "[{'role': 'system', 'content': '不要假设或猜测传入函数的参数值。如果用户的描述不明确，请要求用户提供必要信息'},\n",
       " {'role': 'user', 'content': '帮我查询1月23日，北京到广州的航班'},\n",
       " {'content': None,\n",
       "  'refusal': None,\n",
       "  'role': 'assistant',\n",
       "  'audio': None,\n",
       "  'function_call': None,\n",
       "  'tool_calls': [{'id': 'call_-9054951250022731477',\n",
       "    'function': {'arguments': '{\"date\": \"2022-01-23\", \"departure\": \"北京\", \"destination\": \"广州\"}',\n",
       "     'name': 'get_flight_number'},\n",
       "    'type': 'function',\n",
       "    'index': 0}]},\n",
       " {'role': 'tool',\n",
       "  'content': '{\"flight_number\": \"8321\"}',\n",
       "  'tool_call_id': 'call_-9054951250022731477'},\n",
       " {'content': '根据您的查询，我已经为您找到了1月23日，从北京到广州的航班号，航班号为8321。',\n",
       "  'refusal': None,\n",
       "  'role': 'assistant',\n",
       "  'audio': None,\n",
       "  'function_call': None,\n",
       "  'tool_calls': None},\n",
       " {'role': 'user', 'content': '这趟航班的票价是多少？'},\n",
       " {'content': '请问您需要查询哪个航班的票价呢？',\n",
       "  'refusal': None,\n",
       "  'role': 'assistant',\n",
       "  'audio': None,\n",
       "  'function_call': None,\n",
       "  'tool_calls': None}]"
      ]
     },
     "execution_count": 37,
     "metadata": {},
     "output_type": "execute_result"
    }
   ],
   "source": [
    "messages"
   ]
  },
  {
   "cell_type": "code",
   "execution_count": 36,
   "metadata": {},
   "outputs": [
    {
     "name": "stdout",
     "output_type": "stream",
     "text": [
      "ChatCompletionMessage(content='请问您需要查询哪个航班的票价呢？', refusal=None, role='assistant', audio=None, function_call=None, tool_calls=None)\n"
     ]
    }
   ],
   "source": [
    "# messages.append({\"role\": \"user\", \"content\": \"这趟航班的价格是多少？\"})\n",
    "messages.append({\"role\": \"user\", \"content\": \"这趟航班的票价是多少？\"})\n",
    "response = client.chat.completions.create(\n",
    "    model=\"glm-4-flash\",  # 填写需要调用的模型名称\n",
    "    messages=messages,\n",
    "    tools=tools,\n",
    ")\n",
    "print(response.choices[0].message)\n",
    "messages.append(response.choices[0].message.model_dump())\n",
    " \n",
    "parse_function_call(response,messages)"
   ]
  },
  {
   "cell_type": "code",
   "execution_count": null,
   "metadata": {},
   "outputs": [],
   "source": []
  }
 ],
 "metadata": {
  "kernelspec": {
   "display_name": "Python 3",
   "language": "python",
   "name": "python3"
  },
  "language_info": {
   "codemirror_mode": {
    "name": "ipython",
    "version": 3
   },
   "file_extension": ".py",
   "mimetype": "text/x-python",
   "name": "python",
   "nbconvert_exporter": "python",
   "pygments_lexer": "ipython3",
   "version": "3.12.4"
  }
 },
 "nbformat": 4,
 "nbformat_minor": 2
}
